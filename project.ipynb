{
 "cells": [
  {
   "cell_type": "markdown",
   "metadata": {},
   "source": [
    "Wymagane są pliki 'train.csv' i 'store.csv' w tym samym katalogu."
   ]
  },
  {
   "cell_type": "code",
   "execution_count": null,
   "metadata": {},
   "outputs": [
    {
     "name": "stderr",
     "output_type": "stream",
     "text": [
      "/tmp/ipykernel_3027/2777014701.py:2: DtypeWarning: Columns (7) have mixed types. Specify dtype option on import or set low_memory=False.\n",
      "  df1 = pd.read_csv('train.csv')\n"
     ]
    }
   ],
   "source": [
    "import pandas as pd\n",
    "df1 = pd.read_csv('train.csv')\n",
    "df2 = pd.read_csv('store.csv')\n",
    "\n",
    "# Efektywnie left join (dla każdego dnia w train, dodajemy informacje o sklepie w którym jest)\n",
    "df = pd.merge(df1, df2, left_on='Store', right_on='Store', how='left')\n",
    "\n",
    "# Chcemy jeszcze wymieszać kolejność, bo oryginalne dane są rosnącą datą\n",
    "df = df.sample(len(df))"
   ]
  },
  {
   "cell_type": "code",
   "execution_count": 2,
   "metadata": {},
   "outputs": [],
   "source": [
    "# Główna rzecz jaką chcielibyśmy zmienić to jakoś skonwertować rzeczy, które nie są numeryczne\n",
    "# Takie rzeczy to DayOfWeek, StateHoliday\n",
    "# 1 podejściem będzie one-hot-encoding\n",
    "df = pd.get_dummies(df, columns=['DayOfWeek','StateHoliday', 'StoreType', \"Assortment\"])\n",
    "\n",
    "#Uzupełniamy jak nie ma dystansu do 100K (w pozostałych max to 75K)\n",
    "df['CompetitionDistance'] = df['CompetitionDistance'].fillna(100000)\n",
    "\n",
    "\n",
    "\n",
    "# Dodamy do tabelki\n",
    "df['CompetitionOpenSinceYear'] = df['CompetitionOpenSinceYear'].fillna(2000)\n",
    "df['CompetitionOpenSinceMonth'] = df['CompetitionOpenSinceMonth'].fillna(1)\n",
    "df['CompetitionOpenSinceDay'] = 1\n",
    "\n",
    "df_renamed = df.rename(columns={\n",
    "    'CompetitionOpenSinceYear': 'year',\n",
    "    'CompetitionOpenSinceMonth': 'month',\n",
    "    'CompetitionOpenSinceDay': 'day'\n",
    "})\n",
    "\n",
    "df['CompetitionOpening'] = pd.to_datetime(df_renamed[['year', 'month', 'day']])\n",
    "df['NewCompetition'] = df['CompetitionOpening']+ pd.DateOffset(months=6) >= df['Date']\n",
    "df = pd.get_dummies(df, columns=['NewCompetition'])\n",
    "# Usuwamy teraz już niepotrzebne nam kolumny - zamieniliśmy na datę\n",
    "df.drop(['CompetitionOpenSinceYear', 'CompetitionOpenSinceMonth', 'CompetitionOpenSinceDay'], axis=1, inplace=True)"
   ]
  },
  {
   "cell_type": "markdown",
   "metadata": {},
   "source": [
    "Dzielimy dane na training, dev i test. Ma to na celu upewnić się, że nie 'zapamiętujemy' rozwiązań i model zadziała na nieznanych nam wcześniej danych podobnie dobrze."
   ]
  },
  {
   "cell_type": "code",
   "execution_count": 4,
   "metadata": {},
   "outputs": [],
   "source": [
    "training_len = (len(df) // 10) * 8\n",
    "dev_len = len(df) // 10\n",
    "test_len = len(df) - dev_len - training_len\n",
    "\n",
    "df_train = df.iloc[:training_len]                       # 1 - 813759 train\n",
    "df_dev = df.iloc[training_len:dev_len + training_len]   # 813760 - 915479 dev\n",
    "df_test = df.iloc[dev_len + training_len:]              # 915480 - 1017208 test"
   ]
  },
  {
   "cell_type": "markdown",
   "metadata": {},
   "source": [
    "Teraz zrobimy listę liniowych danych, żeby LinearRegression model miał szansę. Ponadto usuwam Customers, bo w oryginalnym wyzwaniu też tego nie było w 'test.csv'"
   ]
  },
  {
   "cell_type": "code",
   "execution_count": 5,
   "metadata": {},
   "outputs": [
    {
     "data": {
      "text/plain": [
       "['Open',\n",
       " 'Promo',\n",
       " 'SchoolHoliday',\n",
       " 'CompetitionDistance',\n",
       " 'Promo2',\n",
       " 'DayOfWeek_1',\n",
       " 'DayOfWeek_2',\n",
       " 'DayOfWeek_3',\n",
       " 'DayOfWeek_4',\n",
       " 'DayOfWeek_5',\n",
       " 'DayOfWeek_6',\n",
       " 'DayOfWeek_7',\n",
       " 'StateHoliday_0',\n",
       " 'StateHoliday_0',\n",
       " 'StateHoliday_a',\n",
       " 'StateHoliday_b',\n",
       " 'StateHoliday_c',\n",
       " 'StoreType_a',\n",
       " 'StoreType_b',\n",
       " 'StoreType_c',\n",
       " 'StoreType_d',\n",
       " 'Assortment_a',\n",
       " 'Assortment_b',\n",
       " 'Assortment_c',\n",
       " 'NewCompetition_False',\n",
       " 'NewCompetition_True']"
      ]
     },
     "execution_count": 5,
     "metadata": {},
     "output_type": "execute_result"
    }
   ],
   "source": [
    "# Nazwy kolumn do usunięcia z listy\n",
    "to_remove = ['Store','Date', 'Sales', 'Customers', 'CompetitionOpening', 'Promo2SinceYear', 'Promo2SinceWeek', 'PromoInterval']\n",
    "list_inputs = [x for x in list(df.columns) if x not in to_remove]\n",
    "\n",
    "# Definiujemy\n",
    "X_train, Y_train = df_train[list_inputs], df_train['Sales']\n",
    "X_dev, Y_dev = df_dev[list_inputs], df_dev['Sales']\n",
    "X_test, Y_test = df_test[list_inputs], df_test['Sales']\n",
    "list_inputs"
   ]
  },
  {
   "cell_type": "markdown",
   "metadata": {},
   "source": [
    "Poniżej sprawdzamy jak dobrze radzi sobie LinearRegression, czyli do każdej kolumny przypisujemy jakąś wagę (w_i) tak by różnica między oczekiwanymi, a sumą a_i * w_i była możliwie mała"
   ]
  },
  {
   "cell_type": "code",
   "execution_count": 6,
   "metadata": {},
   "outputs": [
    {
     "name": "stdout",
     "output_type": "stream",
     "text": [
      "actual: 4162 predicted: 6450.899505027893\n",
      "actual: 6879 predicted: 6030.892234503759\n",
      "actual: 5608 predicted: 5266.224463039146\n",
      "actual: 4652 predicted: 5614.131240983192\n",
      "actual: 5565 predicted: 6261.103923480861\n",
      "actual: 3907 predicted: 5999.352568406835\n",
      "actual: 4640 predicted: 6408.187064367092\n",
      "actual: 13738 predicted: 9103.063028857254\n",
      "actual: 0 predicted: 556.7976360164672\n",
      "actual: 4614 predicted: 8165.628997583191\n",
      "RMSE dla test: 6288370.37\n",
      "RMSE dla train: 6265760.22\n"
     ]
    }
   ],
   "source": [
    "from sklearn.linear_model import LinearRegression\n",
    "from sklearn.metrics import mean_squared_error\n",
    "import numpy as np\n",
    "# Trenujemy model na X_train, Y_train\n",
    "model = LinearRegression()\n",
    "model.fit(X_train, Y_train)\n",
    "\n",
    "# Aplikujemy model na X_test,dodatkowo maxujemy z zerem, bo nie ma negatywnych wartości\n",
    "test_pred = model.predict(X_test)\n",
    "test_pred = np.maximum(test_pred, 0)\n",
    "\n",
    "# Wypisujemy kawałek\n",
    "for i, j in zip(Y_test[:10], test_pred[:10]):\n",
    "    print(\"actual: \" + str(i) + \" predicted: \" + str(j))\n",
    "\n",
    "# Liczymy średni squared error\n",
    "rmse = mean_squared_error(Y_test, test_pred)\n",
    "print(f\"RMSE dla test: {rmse:.2f}\")\n",
    "\n",
    "Y_pred = model.predict(X_train)\n",
    "Y_pred = np.maximum(Y_pred, 0)\n",
    "rmse = mean_squared_error(Y_train, Y_pred)\n",
    "print(f\"RMSE dla train: {rmse:.2f}\")"
   ]
  },
  {
   "cell_type": "code",
   "execution_count": 7,
   "metadata": {},
   "outputs": [],
   "source": [
    "# Teraz spróbbujemy czy przypadkiem jesteśmy w stanie przebić ten wynik przy pomocy sieci neuronowej z ukrytym layerem\n",
    "import torch\n",
    "import torch.nn.functional as F\n",
    "import matplotlib.pyplot as plt # for making figures\n",
    "%matplotlib inline\n",
    "g = torch.Generator().manual_seed(2147483647) # for reproducibility"
   ]
  },
  {
   "cell_type": "code",
   "execution_count": 8,
   "metadata": {},
   "outputs": [
    {
     "name": "stderr",
     "output_type": "stream",
     "text": [
      "/tmp/ipykernel_3027/2571476003.py:11: SettingWithCopyWarning: \n",
      "A value is trying to be set on a copy of a slice from a DataFrame.\n",
      "Try using .loc[row_indexer,col_indexer] = value instead\n",
      "\n",
      "See the caveats in the documentation: https://pandas.pydata.org/pandas-docs/stable/user_guide/indexing.html#returning-a-view-versus-a-copy\n",
      "  X_train['CompetitionDistance'] = X_train['CompetitionDistance'] / maks\n",
      "/tmp/ipykernel_3027/2571476003.py:12: SettingWithCopyWarning: \n",
      "A value is trying to be set on a copy of a slice from a DataFrame.\n",
      "Try using .loc[row_indexer,col_indexer] = value instead\n",
      "\n",
      "See the caveats in the documentation: https://pandas.pydata.org/pandas-docs/stable/user_guide/indexing.html#returning-a-view-versus-a-copy\n",
      "  X_test['CompetitionDistance'] = X_test['CompetitionDistance'] / maks\n"
     ]
    }
   ],
   "source": [
    "# Funkcja robiąca 2 tensory z dataframów\n",
    "def build_dataset(df1, df2):  \n",
    "    X, Y= [],  []\n",
    "    X = df1.values\n",
    "    Y = df2.values\n",
    "    X = torch.tensor(X, dtype=float)\n",
    "    Y = torch.tensor(Y, dtype=float)\n",
    "    return X, Y\n",
    "\n",
    "maks = max(X_train['CompetitionDistance'])\n",
    "X_train['CompetitionDistance'] = X_train['CompetitionDistance'] / maks\n",
    "X_test['CompetitionDistance'] = X_test['CompetitionDistance'] / maks\n",
    "\n",
    "Xtr, Ytr = build_dataset(X_train, Y_train)\n",
    "Xte, Yte = build_dataset(X_test, Y_test)"
   ]
  },
  {
   "cell_type": "code",
   "execution_count": null,
   "metadata": {},
   "outputs": [
    {
     "name": "stdout",
     "output_type": "stream",
     "text": [
      "7681\n"
     ]
    }
   ],
   "source": [
    "import torch.nn.init as init\n",
    "n_hidden = 256 # ile jest neuronów w hidden layer\n",
    "g = torch.Generator().manual_seed(2147483647) # f\n",
    "block_size = Xtr.shape[1]  # input size (number of features)\n",
    "\n",
    "\n",
    "# Create tensors with gradients enabled\n",
    "W1 = torch.empty((block_size, n_hidden), requires_grad=True)  # (input_size, hidden_size)\n",
    "b1 = torch.empty(n_hidden, requires_grad=True)  # (hidden_size,)\n",
    "W2 = torch.empty((n_hidden, 1), requires_grad=True)  # (hidden_size, output_size)\n",
    "b2 = torch.empty(1, requires_grad=True)  # (output_size,)\n",
    "\n",
    "# Inicjalizujemy macierz\n",
    "init.xavier_normal_(W1)  \n",
    "init.zeros_(b1)  \n",
    "init.xavier_normal_(W2)\n",
    "init.zeros_(b2)\n",
    "\n",
    "parameters = [W1, b1, W2, b2]\n",
    "print(sum(p.nelement() for p in parameters)) # number of parameters in total\n",
    "for p in parameters:\n",
    "  p.requires_grad = True\n"
   ]
  },
  {
   "cell_type": "markdown",
   "metadata": {},
   "source": [
    "W komórce poniżej będziemy trenowali przez max_steps, za każdym razem losujemy batch_size i na podstawie tego zmieniamy parametry macierzy."
   ]
  },
  {
   "cell_type": "code",
   "execution_count": null,
   "metadata": {},
   "outputs": [
    {
     "name": "stdout",
     "output_type": "stream",
     "text": [
      "0: 48182736.0\n",
      "1000: 8202480.0\n",
      "2000: 6737110.5\n",
      "3000: 6843114.5\n",
      "4000: 4880212.5\n",
      "5000: 5147230.0\n",
      "6000: 5862427.5\n",
      "7000: 5234383.5\n",
      "8000: 4529166.5\n",
      "9000: 5570285.5\n",
      "10000: 8873271.0\n",
      "11000: 5957195.0\n",
      "12000: 8529313.0\n",
      "13000: 7566853.0\n",
      "14000: 5000805.5\n",
      "15000: 4626560.0\n",
      "16000: 4812877.0\n",
      "17000: 5966339.0\n",
      "18000: 3568455.75\n",
      "19000: 5504687.5\n",
      "20000: 8345292.0\n",
      "21000: 6740272.0\n",
      "22000: 5695942.0\n",
      "23000: 8121194.5\n",
      "24000: 4849581.5\n",
      "25000: 6081071.0\n",
      "26000: 4053619.0\n",
      "27000: 5725919.0\n",
      "28000: 4522984.0\n",
      "29000: 7201524.5\n",
      "30000: 6247569.5\n",
      "31000: 6885536.0\n",
      "32000: 5997257.0\n",
      "33000: 7517244.5\n",
      "34000: 4442122.0\n",
      "35000: 6758719.0\n",
      "36000: 7067961.0\n",
      "37000: 5971932.0\n",
      "38000: 5477555.5\n",
      "39000: 5115774.5\n",
      "40000: 5121627.5\n",
      "41000: 5233043.5\n",
      "42000: 6023403.0\n",
      "43000: 6139742.0\n",
      "44000: 7457613.0\n",
      "45000: 7283469.0\n",
      "46000: 5268797.5\n",
      "47000: 6530182.5\n",
      "48000: 6174572.0\n",
      "49000: 4881387.5\n",
      "50000: 7476601.5\n",
      "51000: 5502225.5\n",
      "52000: 8338960.0\n",
      "53000: 5442092.0\n",
      "54000: 4893413.5\n",
      "55000: 4874908.0\n",
      "56000: 7040607.5\n",
      "57000: 7711868.0\n",
      "58000: 5526802.0\n",
      "59000: 4510982.0\n",
      "60000: 6568272.5\n",
      "61000: 5632042.5\n",
      "62000: 6805361.0\n",
      "63000: 6799022.0\n",
      "64000: 6530784.0\n",
      "65000: 5227018.0\n",
      "66000: 5117130.5\n",
      "67000: 8762641.0\n",
      "68000: 5021007.0\n",
      "69000: 6070799.0\n",
      "70000: 6295385.0\n",
      "71000: 7015699.5\n",
      "72000: 4295979.0\n",
      "73000: 9466673.0\n",
      "74000: 5853550.0\n",
      "75000: 6415027.0\n",
      "76000: 5817264.0\n",
      "77000: 8190031.5\n",
      "78000: 6365470.5\n",
      "79000: 8230244.0\n",
      "80000: 5189562.5\n",
      "81000: 6539344.5\n",
      "82000: 6784321.0\n",
      "83000: 5391154.0\n",
      "84000: 8227666.0\n",
      "85000: 7005904.0\n",
      "86000: 6821196.5\n",
      "87000: 6778079.0\n",
      "88000: 5474561.0\n",
      "89000: 6500342.0\n",
      "90000: 6443652.0\n",
      "91000: 5228233.0\n",
      "92000: 7672057.5\n",
      "93000: 9174821.0\n",
      "94000: 8696546.0\n",
      "95000: 8627407.0\n",
      "96000: 5989105.0\n",
      "97000: 6275320.0\n",
      "98000: 6735060.5\n",
      "99000: 4417466.0\n",
      "100000: 6017330.0\n",
      "101000: 5888346.0\n",
      "102000: 4581224.0\n",
      "103000: 6322277.0\n",
      "104000: 5499305.0\n",
      "105000: 4078714.5\n",
      "106000: 5468606.0\n",
      "107000: 4169686.0\n",
      "108000: 7082262.0\n",
      "109000: 4858135.5\n",
      "110000: 7476104.5\n",
      "111000: 5964773.0\n",
      "112000: 6630889.5\n",
      "113000: 5883336.0\n",
      "114000: 6494204.0\n",
      "115000: 5745038.0\n",
      "116000: 5156559.0\n",
      "117000: 8444178.0\n",
      "118000: 4914925.5\n",
      "119000: 5328485.0\n",
      "120000: 7273918.5\n",
      "121000: 7591444.0\n",
      "122000: 5001117.0\n",
      "123000: 6202214.0\n",
      "124000: 4389071.5\n",
      "125000: 5858141.0\n",
      "126000: 5638164.5\n",
      "127000: 4870721.5\n",
      "128000: 4682687.0\n",
      "129000: 6283403.0\n",
      "130000: 5618208.0\n",
      "131000: 8320689.0\n",
      "132000: 4476590.5\n",
      "133000: 7444782.0\n",
      "134000: 7790579.5\n",
      "135000: 7079153.5\n",
      "136000: 4725960.0\n",
      "137000: 5243416.0\n",
      "138000: 5694546.0\n",
      "139000: 5820515.5\n",
      "140000: 5194599.5\n",
      "141000: 6630006.5\n",
      "142000: 5378675.0\n",
      "143000: 4626375.5\n",
      "144000: 6367239.5\n",
      "145000: 6942186.5\n",
      "146000: 5618967.0\n",
      "147000: 6387909.0\n",
      "148000: 6427841.0\n",
      "149000: 5077810.5\n",
      "150000: 6409467.5\n",
      "151000: 6717978.5\n",
      "152000: 5210274.0\n",
      "153000: 3969136.5\n",
      "154000: 7082531.0\n",
      "155000: 7373618.0\n",
      "156000: 5772879.5\n",
      "157000: 4861856.0\n",
      "158000: 5226806.5\n",
      "159000: 5687266.5\n",
      "160000: 5195304.0\n",
      "161000: 5921069.0\n",
      "162000: 4876948.5\n",
      "163000: 7344608.0\n",
      "164000: 7886395.0\n",
      "165000: 4735528.5\n",
      "166000: 6700835.0\n",
      "167000: 4280013.5\n",
      "168000: 4950234.0\n",
      "169000: 8687254.0\n",
      "170000: 4527566.0\n",
      "171000: 6211460.0\n",
      "172000: 4568763.0\n",
      "173000: 5477570.5\n",
      "174000: 5067717.5\n",
      "175000: 6372630.5\n",
      "176000: 5005188.0\n",
      "177000: 4439930.0\n",
      "178000: 5613661.5\n",
      "179000: 5817670.0\n",
      "180000: 5796035.0\n",
      "181000: 5366829.0\n",
      "182000: 4912949.0\n",
      "183000: 7150343.0\n",
      "184000: 5943567.0\n",
      "185000: 7790934.0\n",
      "186000: 8850800.0\n",
      "187000: 6029097.0\n",
      "188000: 7627533.5\n",
      "189000: 5264354.0\n",
      "190000: 9732527.0\n",
      "191000: 5847101.5\n",
      "192000: 6474463.0\n",
      "193000: 4963234.0\n",
      "194000: 7586007.0\n",
      "195000: 5999925.0\n",
      "196000: 4801564.5\n",
      "197000: 5765343.0\n",
      "198000: 6549318.5\n",
      "199000: 7966947.0\n",
      "200000: 4649489.0\n",
      "201000: 6391476.0\n",
      "202000: 6892141.0\n",
      "203000: 5188178.0\n",
      "204000: 7198008.0\n",
      "205000: 5578416.0\n",
      "206000: 5305717.5\n",
      "207000: 4565315.5\n",
      "208000: 6547039.0\n",
      "209000: 5373614.0\n",
      "210000: 6087805.5\n",
      "211000: 7277263.0\n",
      "212000: 6090143.0\n",
      "213000: 5630843.5\n",
      "214000: 6732056.5\n",
      "215000: 4404222.0\n",
      "216000: 5353497.0\n",
      "217000: 6295692.5\n",
      "218000: 5940075.0\n",
      "219000: 5519559.5\n",
      "220000: 6279106.0\n",
      "221000: 5807260.0\n",
      "222000: 6113245.5\n",
      "223000: 6045724.0\n",
      "224000: 5653054.5\n",
      "225000: 4676489.5\n",
      "226000: 4500479.0\n",
      "227000: 6105813.5\n",
      "228000: 5318287.0\n",
      "229000: 7637936.0\n",
      "230000: 3947087.25\n",
      "231000: 6641293.5\n",
      "232000: 5912290.0\n",
      "233000: 6394702.0\n",
      "234000: 5511090.5\n",
      "235000: 6284275.0\n",
      "236000: 4338379.5\n",
      "237000: 7213696.5\n",
      "238000: 5348497.0\n",
      "239000: 8929160.0\n",
      "240000: 4469787.0\n",
      "241000: 9126335.0\n",
      "242000: 5146926.0\n",
      "243000: 7402840.5\n",
      "244000: 6281170.0\n",
      "245000: 6551052.5\n",
      "246000: 6677224.0\n",
      "247000: 6268922.0\n",
      "248000: 5680163.0\n",
      "249000: 8083755.5\n"
     ]
    }
   ],
   "source": [
    "max_steps = 250000\n",
    "print_interval = 5000\n",
    "batch_size = 256\n",
    "\n",
    "# Tablica do robienia wykresu później\n",
    "lossi = []\n",
    "\n",
    "for i in range(max_steps):\n",
    "  \n",
    "  # Tworzymy batch\n",
    "  ix = torch.randint(0, Xtr.shape[0], (batch_size,), generator=g)\n",
    "  Xb, Yb = Xtr[ix], Ytr[ix]\n",
    "  Xb = Xb.to(torch.float)\n",
    "  Yb = Yb.float()\n",
    "  Yb = Yb.view(-1,1)\n",
    "\n",
    "  # Liczymy loss\n",
    "  hpreact = Xb @ W1 + b1 \n",
    "  h = torch.tanh(hpreact) # aplikujemy tanh\n",
    "  res = h @ W2 + b2 \n",
    "  res = res.float()\n",
    "  loss = F.mse_loss(res, Yb, reduction = 'mean')\n",
    "\n",
    "  # Obliczenie jak gradient wpływa na cokolwiek\n",
    "  for p in parameters:\n",
    "    p.grad = None\n",
    "  loss.backward()\n",
    "  \n",
    "  # Updatujemy parametry\n",
    "  # Za duże parametry powodują, że może się pojawiać nan\n",
    "  lr = 0.0005 if i < max_steps / 2 else 0.0001\n",
    "  for p in parameters:\n",
    "    p.data += -lr * p.grad\n",
    "\n",
    "  # \n",
    "  lossi.append(loss.item())\n",
    "  if i % print_interval == 0:\n",
    "    print(str(i) + \": \" +str(loss.item()))"
   ]
  },
  {
   "cell_type": "code",
   "execution_count": null,
   "metadata": {},
   "outputs": [
    {
     "data": {
      "text/plain": [
       "[<matplotlib.lines.Line2D at 0x7f32557bbe10>]"
      ]
     },
     "execution_count": 21,
     "metadata": {},
     "output_type": "execute_result"
    },
    {
     "data": {
      "image/png": "[encoded data removed]",
      "text/plain": [
       "<Figure size 640x480 with 1 Axes>"
      ]
     },
     "metadata": {},
     "output_type": "display_data"
    }
   ],
   "source": [
    "#Rysuje wykres\n",
    "plt.plot(lossi)"
   ]
  },
  {
   "cell_type": "code",
   "execution_count": 22,
   "metadata": {},
   "outputs": [
    {
     "data": {
      "text/plain": [
       "tensor([5983371.])"
      ]
     },
     "execution_count": 22,
     "metadata": {},
     "output_type": "execute_result"
    }
   ],
   "source": [
    "@torch.no_grad()\n",
    "def oblicz_strate(X, Y):\n",
    "    sum = 0\n",
    "    for Xb,Yb in zip(X,Y):\n",
    "        Xb = Xb.to(torch.float)\n",
    "        hpreact = Xb @ W1 + b1 \n",
    "        h = torch.tanh(hpreact)\n",
    "        res = h @ W2 + b2\n",
    "        sum += (res - Yb) ** 2\n",
    "    return sum / len(X)\n",
    "oblicz_strate(Xtr, Ytr)"
   ]
  },
  {
   "cell_type": "code",
   "execution_count": 23,
   "metadata": {},
   "outputs": [
    {
     "data": {
      "text/plain": [
       "tensor([6010418.5000])"
      ]
     },
     "execution_count": 23,
     "metadata": {},
     "output_type": "execute_result"
    }
   ],
   "source": [
    "oblicz_strate(Xte, Yte)"
   ]
  },
  {
   "cell_type": "markdown",
   "metadata": {},
   "source": [
    "Finalne rezultaty na test secie to: <br>\n",
    "6288370.37 dla RMSE <br>\n",
    "6010418.50 dla sieci neuronowej"
   ]
  }
 ],
 "metadata": {
  "kernelspec": {
   "display_name": "Python 3",
   "language": "python",
   "name": "python3"
  },
  "language_info": {
   "codemirror_mode": {
    "name": "ipython",
    "version": 3
   },
   "file_extension": ".py",
   "mimetype": "text/x-python",
   "name": "python",
   "nbconvert_exporter": "python",
   "pygments_lexer": "ipython3",
   "version": "3.11.2"
  }
 },
 "nbformat": 4,
 "nbformat_minor": 2
}
